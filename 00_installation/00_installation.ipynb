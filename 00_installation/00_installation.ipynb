{
 "cells": [
  {
   "cell_type": "markdown",
   "id": "936e3960",
   "metadata": {},
   "source": [
    "<img src=\"https://raw.githubusercontent.com/skypilot-org/skypilot/master/docs/source/images/skypilot-wide-light-1k.png\" width=500>"
   ]
  },
  {
   "cell_type": "markdown",
   "id": "5a67d78f",
   "metadata": {},
   "source": [
    "# Installation"
   ]
  },
  {
   "cell_type": "markdown",
   "id": "047185ae",
   "metadata": {},
   "source": [
    "Before we start this tutorial, let's install SkyPilot!"
   ]
  },
  {
   "cell_type": "markdown",
   "id": "fec9c1e6",
   "metadata": {},
   "source": [
    "## Installing SkyPilot"
   ]
  },
  {
   "cell_type": "markdown",
   "id": "adafd7e2",
   "metadata": {},
   "source": [
    "By default, SkyPilot installs with AWS support. To add support for GCP and Azure, add them to the extras in the pip install command below."
   ]
  },
  {
   "cell_type": "code",
   "execution_count": null,
   "id": "ef469836",
   "metadata": {},
   "outputs": [],
   "source": [
    "!pip install skypilot -y\n",
    "\n",
    "# Install all support for all three clouds:\n",
    "#!pip install skypilot[aws,azure,gcp]"
   ]
  },
  {
   "cell_type": "markdown",
   "id": "9cc6ab97",
   "metadata": {},
   "source": [
    "Verify skypilot is installed:"
   ]
  },
  {
   "cell_type": "code",
   "execution_count": 17,
   "id": "c19eed75",
   "metadata": {},
   "outputs": [
    {
     "name": "stdout",
     "output_type": "stream",
     "text": [
      "1.0.0-dev0\n"
     ]
    }
   ],
   "source": [
    "import sky\n",
    "print(sky.__version__)"
   ]
  },
  {
   "cell_type": "markdown",
   "id": "1b3cfd60",
   "metadata": {},
   "source": [
    "## Setting up cloud accounts"
   ]
  },
  {
   "cell_type": "markdown",
   "id": "07967154",
   "metadata": {},
   "source": [
    "### AWS\n",
    "\n",
    "To get the **AWS access key** required by `aws configure`, please go to the [AWS IAM Management Console](https://us-east-1.console.aws.amazon.com/iam/home?region=us-east-1#/security_credentials) and click on the “Access keys” dropdown (detailed instructions [here](https://docs.aws.amazon.com/IAM/latest/UserGuide/id_credentials_access-keys.html#Using_CreateAccessKey)). The Default region name [None]: and Default output format [None]: fields are optional and can be left blank to choose defaults."
   ]
  },
  {
   "cell_type": "code",
   "execution_count": null,
   "id": "7c0c9080",
   "metadata": {},
   "outputs": [],
   "source": [
    "# Install boto\n",
    "!pip install boto3 --quiet"
   ]
  },
  {
   "cell_type": "markdown",
   "id": "c05d5f4f",
   "metadata": {},
   "source": [
    " Use the terminal below to run `aws configure`. Either type in `aws configure` or use the `aws configure` button below."
   ]
  },
  {
   "cell_type": "code",
   "execution_count": null,
   "id": "bfd47689",
   "metadata": {},
   "outputs": [],
   "source": []
  },
  {
   "cell_type": "markdown",
   "id": "cf3752f1",
   "metadata": {},
   "source": [
    "## Verifying credential setup"
   ]
  },
  {
   "cell_type": "markdown",
   "id": "b5235ded",
   "metadata": {},
   "source": [
    "Let's run `sky check` to make sure your credentials are correctly setup."
   ]
  },
  {
   "cell_type": "code",
   "execution_count": 18,
   "id": "2bbc8800",
   "metadata": {},
   "outputs": [
    {
     "name": "stdout",
     "output_type": "stream",
     "text": [
      "Checking credentials to enable clouds for SkyPilot.\n",
      "  \u001B[32m\u001B[1mAWS: enabled\u001B[0m          \n",
      "  \u001B[32m\u001B[1mAzure: enabled\u001B[0m          \n",
      "  \u001B[32m\u001B[1mGCP: enabled\u001B[0m          \n",
      "\n",
      "SkyPilot will use only the enabled clouds to run tasks. To change this, configure cloud credentials, and run \u001B[1msky check\u001B[0m.\n",
      "\u001B[0m"
     ]
    }
   ],
   "source": [
    "! sky check"
   ]
  }
 ],
 "metadata": {
  "kernelspec": {
   "display_name": "Python 3",
   "language": "python",
   "name": "python3"
  },
  "language_info": {
   "codemirror_mode": {
    "name": "ipython",
    "version": 3
   },
   "file_extension": ".py",
   "mimetype": "text/x-python",
   "name": "python",
   "nbconvert_exporter": "python",
   "pygments_lexer": "ipython3",
   "version": "3.7.4"
  }
 },
 "nbformat": 4,
 "nbformat_minor": 5
}