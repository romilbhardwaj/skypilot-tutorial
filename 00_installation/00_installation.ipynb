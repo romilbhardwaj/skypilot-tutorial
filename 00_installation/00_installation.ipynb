{
 "cells": [
  {
   "cell_type": "markdown",
   "id": "b6c36943",
   "metadata": {},
   "source": [
    "<img src=\"https://raw.githubusercontent.com/skypilot-org/skypilot/master/docs/source/images/skypilot-wide-light-1k.png\" width=500>"
   ]
  },
  {
   "cell_type": "markdown",
   "id": "c9743bbf",
   "metadata": {},
   "source": [
    "# Installation"
   ]
  },
  {
   "cell_type": "markdown",
   "id": "ff097528",
   "metadata": {},
   "source": [
    "Before we start this tutorial, let's install SkyPilot!"
   ]
  },
  {
   "cell_type": "markdown",
   "id": "a1737871",
   "metadata": {},
   "source": [
    "## Installing SkyPilot"
   ]
  },
  {
   "cell_type": "markdown",
   "id": "eb9fb8f6",
   "metadata": {},
   "source": [
    "By default, SkyPilot installs with AWS support. To add support for GCP and Azure, add them to the extras in the pip install command below."
   ]
  },
  {
   "cell_type": "code",
   "execution_count": null,
   "id": "72725fc0",
   "metadata": {},
   "outputs": [],
   "source": [
    "!pip install skypilot -y\n",
    "\n",
    "# Install all support for all three clouds:\n",
    "#!pip install skypilot[aws,azure,gcp]"
   ]
  },
  {
   "cell_type": "markdown",
   "id": "efad2a03",
   "metadata": {},
   "source": [
    "Verify skypilot is installed:"
   ]
  },
  {
   "cell_type": "code",
   "execution_count": 17,
   "id": "0dd1203b",
   "metadata": {},
   "outputs": [
    {
     "name": "stdout",
     "output_type": "stream",
     "text": [
      "1.0.0-dev0\n"
     ]
    }
   ],
   "source": [
    "import sky\n",
    "print(sky.__version__)"
   ]
  },
  {
   "cell_type": "markdown",
   "id": "3311ee17",
   "metadata": {},
   "source": [
    "## Setting up cloud accounts"
   ]
  },
  {
   "cell_type": "markdown",
   "id": "1be83d4e",
   "metadata": {},
   "source": [
    "### AWS\n",
    "\n",
    "To get the **AWS access key** required by `aws configure`, please go to the [AWS IAM Management Console](https://us-east-1.console.aws.amazon.com/iam/home?region=us-east-1#/security_credentials) and click on the “Access keys” dropdown (detailed instructions [here](https://docs.aws.amazon.com/IAM/latest/UserGuide/id_credentials_access-keys.html#Using_CreateAccessKey)). The Default region name [None]: and Default output format [None]: fields are optional and can be left blank to choose defaults."
   ]
  },
  {
   "cell_type": "code",
   "execution_count": null,
   "id": "de63f7e9",
   "metadata": {},
   "outputs": [],
   "source": [
    "# Install boto\n",
    "!pip install boto3 --quiet"
   ]
  },
  {
   "cell_type": "markdown",
   "id": "a895c028",
   "metadata": {},
   "source": [
    " Use the terminal below to run `aws configure`. Either type in `aws configure` or use the `aws configure` button below."
   ]
  },
  {
   "cell_type": "markdown",
   "id": "d4d7dc62",
   "metadata": {},
   "source": [
    "## Verifying credential setup"
   ]
  },
  {
   "cell_type": "markdown",
   "id": "ba74dad4",
   "metadata": {},
   "source": [
    "Let's run `sky check` to make sure your credentials are correctly setup."
   ]
  },
  {
   "cell_type": "code",
   "execution_count": 18,
   "id": "3d3bbd45",
   "metadata": {},
   "outputs": [
    {
     "name": "stdout",
     "output_type": "stream",
     "text": [
      "Checking credentials to enable clouds for SkyPilot.\n",
      "  \u001b[32m\u001b[1mAWS: enabled\u001b[0m          \n",
      "  \u001b[32m\u001b[1mAzure: enabled\u001b[0m          \n",
      "  \u001b[32m\u001b[1mGCP: enabled\u001b[0m          \n",
      "\n",
      "SkyPilot will use only the enabled clouds to run tasks. To change this, configure cloud credentials, and run \u001b[1msky check\u001b[0m.\n",
      "\u001b[0m"
     ]
    }
   ],
   "source": [
    "! sky check"
   ]
  }
 ],
 "metadata": {
  "kernelspec": {
   "display_name": "Python 3",
   "language": "python",
   "name": "python3"
  },
  "language_info": {
   "codemirror_mode": {
    "name": "ipython",
    "version": 3
   },
   "file_extension": ".py",
   "mimetype": "text/x-python",
   "name": "python",
   "nbconvert_exporter": "python",
   "pygments_lexer": "ipython3",
   "version": "3.7.4"
  }
 },
 "nbformat": 4,
 "nbformat_minor": 5
}
