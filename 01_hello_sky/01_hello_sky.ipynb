{
 "cells": [
  {
   "cell_type": "markdown",
   "metadata": {},
   "source": [
    "<img src=\"https://raw.githubusercontent.com/skypilot-org/skypilot/master/docs/source/images/skypilot-wide-light-1k.png\" width=500>"
   ]
  },
  {
   "cell_type": "markdown",
   "metadata": {
    "pycharm": {
     "name": "#%% md\n"
    }
   },
   "source": [
    "# Welcome to SkyPilot!"
   ]
  },
  {
   "cell_type": "markdown",
   "metadata": {
    "pycharm": {
     "name": "#%% md\n"
    }
   },
   "source": [
    "SkyPilot is a framework for running machine learning workloads on any cloud.\n",
    "\n",
    "Use the clouds **easily** and **cost effectively**, without needing cloud infra expertise.\n",
    "\n",
    "_Ease of use & productivity_\n",
    "* **Run existing projects on the cloud** with zero code changes\n",
    "* **Easily manage jobs** across multiple clusters\n",
    "* **Automatic fail-over** to find scarce resources (GPUs) across regions and clouds\n",
    "* **Store datasets on the cloud** and access them like you would on a local file system \n",
    "* **No cloud lock-in** – seamlessly run your code across different cloud providers (AWS, Azure or GCP)\n",
    "\n",
    "_Cost saving_\n",
    "* Run jobs on **spot instances** with **automatic recovery** from preemptions\n",
    "* Hands-free cluster management: **automatically stopping idle clusters**\n",
    "* One-click use of **TPUs**, for high-performance, cost-effective training\n",
    "* Automatically benchmark and find the cheapest hardware for your job"
   ]
  },
  {
   "cell_type": "markdown",
   "metadata": {},
   "source": [
    "## Verifying credential setup"
   ]
  },
  {
   "cell_type": "markdown",
   "metadata": {},
   "source": [
    "Let's run `sky check` to make sure your credentials are correctly setup."
   ]
  },
  {
   "cell_type": "code",
   "execution_count": 18,
   "metadata": {},
   "outputs": [
    {
     "name": "stdout",
     "output_type": "stream",
     "text": [
      "Checking credentials to enable clouds for SkyPilot.\n",
      "  \u001B[32m\u001B[1mAWS: enabled\u001B[0m          \n",
      "  \u001B[32m\u001B[1mAzure: enabled\u001B[0m          \n",
      "  \u001B[32m\u001B[1mGCP: enabled\u001B[0m          \n",
      "\n",
      "SkyPilot will use only the enabled clouds to run tasks. To change this, configure cloud credentials, and run \u001B[1msky check\u001B[0m.\n",
      "\u001B[0m"
     ]
    }
   ],
   "source": [
    "! sky check"
   ]
  },
  {
   "cell_type": "markdown",
   "metadata": {},
   "source": [
    "## Writing your first SkyPilot Job"
   ]
  },
  {
   "cell_type": "markdown",
   "metadata": {},
   "source": [
    "### Defining a YAML"
   ]
  },
  {
   "cell_type": "markdown",
   "metadata": {},
   "source": [
    "Tasks in SkyPilot are defined as YAML files. TODO - Add more text.\n",
    "\n",
    "Let's look at what a simple YAML looks like:"
   ]
  },
  {
   "cell_type": "code",
   "execution_count": 1,
   "metadata": {},
   "outputs": [
    {
     "name": "stdout",
     "output_type": "stream",
     "text": [
      "name: minimal\n",
      "\n",
      "setup: |\n",
      "  echo \"running setup\"\n",
      "\n",
      "run: |\n",
      "  conda env list"
     ]
    }
   ],
   "source": [
    "!cat minimal.yaml"
   ]
  },
  {
   "cell_type": "markdown",
   "metadata": {},
   "source": [
    "This defines a task with the following components:\n",
    "\n",
    "* **resources**: cloud resources the task must be run on (e.g., accelerators, instance type, etc.)\n",
    "\n",
    "* **workdir**: the working directory containing project code that will be synced to the provisioned instance(s)\n",
    "\n",
    "* **setup**: commands that must be run before the task is executed (invoked under workdir)\n",
    "\n",
    "* **run**: commands that run the actual task (invoked under workdir)\n",
    "\n",
    "All these fields are optional."
   ]
  },
  {
   "cell_type": "markdown",
   "metadata": {},
   "source": [
    "## [DIY] Edit the YAML to echo \"Hello SkyPilot\" \n",
    "Go ahead and open minimal.yaml and edit the run field to echo \"Hello SkyPilot\". Your YAML should look like this:\n",
    "```yaml\n",
    "name: minimal\n",
    "\n",
    "setup: |\n",
    "  echo \"running setup\"\n",
    "\n",
    "run: |\n",
    "  echo \"Hello SkyPilot\"\n",
    "```"
   ]
  },
  {
   "cell_type": "markdown",
   "metadata": {},
   "source": [
    "# Launching your first SkyPilot Task"
   ]
  },
  {
   "cell_type": "markdown",
   "metadata": {},
   "source": [
    "Once your YAML is ready, you can launch it with `sky launch`. TODO - Explain more."
   ]
  },
  {
   "cell_type": "markdown",
   "metadata": {},
   "source": [
    "## [DIY] Launch your Sky Task!\n",
    "\n",
    "In a terminal window, run: (TODO - Give guide to open terminal in jupyter lab)\n",
    "\n",
    "```console\n",
    "sky launch minimal.yaml\n",
    "```\n",
    "\n",
    "You should see an output like this:\n",
    "```console\n",
    "$ sky launch minimal.yaml\n",
    "Task from YAML spec: minimal.yaml\n",
    "I 09-04 15:18:02 optimizer.py:605] == Optimizer ==\n",
    "I 09-04 15:18:02 optimizer.py:617] Target: minimizing cost\n",
    "I 09-04 15:18:02 optimizer.py:628] Estimated cost: $0.4 / hour\n",
    "I 09-04 15:18:02 optimizer.py:628] \n",
    "I 09-04 15:18:02 optimizer.py:685] Considered resources (1 node):\n",
    "I 09-04 15:18:02 optimizer.py:713] ---------------------------------------------------------------------\n",
    "I 09-04 15:18:02 optimizer.py:713]  CLOUD   INSTANCE         vCPUs   ACCELERATORS   COST ($)   CHOSEN   \n",
    "I 09-04 15:18:02 optimizer.py:713] ---------------------------------------------------------------------\n",
    "I 09-04 15:18:02 optimizer.py:713]  AWS     m6i.2xlarge      8       -              0.38          ✔     \n",
    "I 09-04 15:18:02 optimizer.py:713]  Azure   Standard_D8_v4   8       -              0.38                \n",
    "I 09-04 15:18:02 optimizer.py:713]  GCP     n1-highmem-8     8       -              0.47                \n",
    "I 09-04 15:18:02 optimizer.py:713] ---------------------------------------------------------------------\n",
    "I 09-04 15:18:02 optimizer.py:713] \n",
    "Launching a new cluster 'sky-38d8-romilb'. Proceed? [Y/n]: Y\n",
    "```\n",
    "\n",
    "Sky first prompts you to <explain>.\n",
    "\n",
    "TODO - Explain more"
   ]
  },
  {
   "cell_type": "markdown",
   "metadata": {},
   "source": [
    "# Terminating your cluster"
   ]
  },
  {
   "cell_type": "markdown",
   "metadata": {},
   "source": [
    "TODO"
   ]
  },
  {
   "cell_type": "code",
   "execution_count": null,
   "metadata": {},
   "outputs": [],
   "source": []
  }
 ],
 "metadata": {
  "kernelspec": {
   "display_name": "Python 3",
   "language": "python",
   "name": "python3"
  },
  "language_info": {
   "codemirror_mode": {
    "name": "ipython",
    "version": 3
   },
   "file_extension": ".py",
   "mimetype": "text/x-python",
   "name": "python",
   "nbconvert_exporter": "python",
   "pygments_lexer": "ipython3",
   "version": "3.7.4"
  }
 },
 "nbformat": 4,
 "nbformat_minor": 4
}